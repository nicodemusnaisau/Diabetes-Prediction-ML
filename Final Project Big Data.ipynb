{
 "cells": [
  {
   "cell_type": "markdown",
   "metadata": {},
   "source": [
    "# Final Project Big Data"
   ]
  },
  {
   "cell_type": "markdown",
   "metadata": {},
   "source": [
    "#### Authors :\n",
    "2010512054 Baihaqi Firdaus <br>\n",
    "2010512061 Andhika Rizq Pulubuhu <br>\n",
    "2010512062 Nicodemus Naisau<br>\n",
    "2010512063 Santiana<br>\n",
    "2010512067 Fitri Kurniawati<br>"
   ]
  },
  {
   "cell_type": "markdown",
   "metadata": {},
   "source": [
    "<img src=\"https://stiesia.ac.id/wp-content/uploads/2021/11/hari-diabetes-sedunia-04.jpg\">"
   ]
  },
  {
   "cell_type": "markdown",
   "metadata": {},
   "source": [
    "____"
   ]
  },
  {
   "cell_type": "markdown",
   "metadata": {
    "colab_type": "text",
    "id": "A_WuHslwD1v5"
   },
   "source": [
    "# Run a SparkSession"
   ]
  },
  {
   "cell_type": "code",
   "execution_count": 1,
   "metadata": {},
   "outputs": [
    {
     "data": {
      "text/plain": [
       "'D:\\\\APP\\\\Anaconda\\\\lib\\\\site-packages\\\\pyspark'"
      ]
     },
     "execution_count": 1,
     "metadata": {},
     "output_type": "execute_result"
    }
   ],
   "source": [
    "import findspark\n",
    "findspark.init()\n",
    "findspark.find()"
   ]
  },
  {
   "cell_type": "code",
   "execution_count": 2,
   "metadata": {},
   "outputs": [],
   "source": [
    "from pyspark.sql import SparkSession\n",
    "spark = SparkSession.builder.appName('lr_example').getOrCreate()"
   ]
  },
  {
   "cell_type": "code",
   "execution_count": 3,
   "metadata": {
    "colab": {},
    "colab_type": "code",
    "id": "WVfJytL9D4A0"
   },
   "outputs": [],
   "source": [
    "import matplotlib.pyplot as plt\n",
    "import seaborn as sns"
   ]
  },
  {
   "cell_type": "markdown",
   "metadata": {
    "colab_type": "text",
    "id": "I7dAm37uD6UO"
   },
   "source": [
    "# Read Data"
   ]
  },
  {
   "cell_type": "code",
   "execution_count": 4,
   "metadata": {
    "colab": {},
    "colab_type": "code",
    "id": "oNTTjlQBECu0"
   },
   "outputs": [],
   "source": [
    "df = spark.read.csv('diabetes.csv',header=True,inferSchema=True)"
   ]
  },
  {
   "cell_type": "code",
   "execution_count": 5,
   "metadata": {
    "colab": {
     "base_uri": "https://localhost:8080/",
     "height": 459
    },
    "colab_type": "code",
    "id": "D2XbVPIdEEmS",
    "outputId": "b9cf9596-224f-44f5-a3a6-f51bebea3b79"
   },
   "outputs": [
    {
     "name": "stdout",
     "output_type": "stream",
     "text": [
      "+-----------+-------+-------------+-------------+-------+----+------------------------+---+-------+\n",
      "|Pregnancies|Glucose|BloodPressure|SkinThickness|Insulin| BMI|DiabetesPedigreeFunction|Age|Outcome|\n",
      "+-----------+-------+-------------+-------------+-------+----+------------------------+---+-------+\n",
      "|          2|    138|           62|           35|      0|33.6|                   0.127| 47|      1|\n",
      "|          0|     84|           82|           31|    125|38.2|                   0.233| 23|      0|\n",
      "|          0|    145|            0|            0|      0|44.2|                    0.63| 31|      1|\n",
      "|          0|    135|           68|           42|    250|42.3|                   0.365| 24|      1|\n",
      "|          1|    139|           62|           41|    480|40.7|                   0.536| 21|      0|\n",
      "|          0|    173|           78|           32|    265|46.5|                   1.159| 58|      0|\n",
      "|          4|     99|           72|           17|      0|25.6|                   0.294| 28|      0|\n",
      "|          8|    194|           80|            0|      0|26.1|                   0.551| 67|      0|\n",
      "|          2|     83|           65|           28|     66|36.8|                   0.629| 24|      0|\n",
      "|          2|     89|           90|           30|      0|33.5|                   0.292| 42|      0|\n",
      "|          4|     99|           68|           38|      0|32.8|                   0.145| 33|      0|\n",
      "|          4|    125|           70|           18|    122|28.9|                   1.144| 45|      1|\n",
      "|          3|     80|            0|            0|      0| 0.0|                   0.174| 22|      0|\n",
      "|          6|    166|           74|            0|      0|26.6|                   0.304| 66|      0|\n",
      "|          5|    110|           68|            0|      0|26.0|                   0.292| 30|      0|\n",
      "|          2|     81|           72|           15|     76|30.1|                   0.547| 25|      0|\n",
      "|          7|    195|           70|           33|    145|25.1|                   0.163| 55|      1|\n",
      "|          6|    154|           74|           32|    193|29.3|                   0.839| 39|      0|\n",
      "|          2|    117|           90|           19|     71|25.2|                   0.313| 21|      0|\n",
      "|          3|     84|           72|           32|      0|37.2|                   0.267| 28|      0|\n",
      "+-----------+-------+-------------+-------------+-------+----+------------------------+---+-------+\n",
      "only showing top 20 rows\n",
      "\n"
     ]
    }
   ],
   "source": [
    "df.show()"
   ]
  },
  {
   "cell_type": "code",
   "execution_count": 6,
   "metadata": {
    "colab": {
     "base_uri": "https://localhost:8080/",
     "height": 204
    },
    "colab_type": "code",
    "id": "yBFt_jobEGNx",
    "outputId": "790f35be-0219-485c-baa7-9f8f33c170be"
   },
   "outputs": [
    {
     "name": "stdout",
     "output_type": "stream",
     "text": [
      "root\n",
      " |-- Pregnancies: integer (nullable = true)\n",
      " |-- Glucose: integer (nullable = true)\n",
      " |-- BloodPressure: integer (nullable = true)\n",
      " |-- SkinThickness: integer (nullable = true)\n",
      " |-- Insulin: integer (nullable = true)\n",
      " |-- BMI: double (nullable = true)\n",
      " |-- DiabetesPedigreeFunction: double (nullable = true)\n",
      " |-- Age: integer (nullable = true)\n",
      " |-- Outcome: integer (nullable = true)\n",
      "\n"
     ]
    }
   ],
   "source": [
    "df.printSchema()"
   ]
  },
  {
   "cell_type": "code",
   "execution_count": 7,
   "metadata": {
    "colab": {
     "base_uri": "https://localhost:8080/",
     "height": 136
    },
    "colab_type": "code",
    "id": "g9KQ6m59EJlb",
    "outputId": "65deed3a-d243-4f0e-a98f-abea51617a74"
   },
   "outputs": [
    {
     "name": "stdout",
     "output_type": "stream",
     "text": [
      "+-------+-----+\n",
      "|Outcome|count|\n",
      "+-------+-----+\n",
      "|      1|  684|\n",
      "|      0| 1316|\n",
      "+-------+-----+\n",
      "\n"
     ]
    }
   ],
   "source": [
    "df.groupby('Outcome').count().show()"
   ]
  },
  {
   "cell_type": "code",
   "execution_count": 8,
   "metadata": {
    "colab": {
     "base_uri": "https://localhost:8080/",
     "height": 207
    },
    "colab_type": "code",
    "id": "V9jVOkLiELWj",
    "outputId": "edbc8886-e0f8-4e94-af99-47e9085fc494"
   },
   "outputs": [
    {
     "name": "stdout",
     "output_type": "stream",
     "text": [
      "+-------+-----------------+------------------+------------------+-----------------+-----------------+------------------+------------------------+------------------+------------------+\n",
      "|summary|      Pregnancies|           Glucose|     BloodPressure|    SkinThickness|          Insulin|               BMI|DiabetesPedigreeFunction|               Age|           Outcome|\n",
      "+-------+-----------------+------------------+------------------+-----------------+-----------------+------------------+------------------------+------------------+------------------+\n",
      "|  count|             2000|              2000|              2000|             2000|             2000|              2000|                    2000|              2000|              2000|\n",
      "|   mean|           3.7035|          121.1825|           69.1455|           20.935|           80.254|32.192999999999984|     0.47092999999999974|           33.0905|             0.342|\n",
      "| stddev|3.306063032730656|32.068635649902916|19.188314815604098|16.10324290992682|111.1805335457595| 8.149900701279762|      0.3235525586811429|11.786423106049496|0.4744982342297426|\n",
      "|    min|                0|                 0|                 0|                0|                0|               0.0|                   0.078|                21|                 0|\n",
      "|    max|               17|               199|               122|              110|              744|              80.6|                    2.42|                81|                 1|\n",
      "+-------+-----------------+------------------+------------------+-----------------+-----------------+------------------+------------------------+------------------+------------------+\n",
      "\n"
     ]
    }
   ],
   "source": [
    "df.describe().show()"
   ]
  },
  {
   "cell_type": "markdown",
   "metadata": {
    "colab_type": "text",
    "id": "HvlMvuIcEPSA"
   },
   "source": [
    "# Cleaning Data"
   ]
  },
  {
   "cell_type": "code",
   "execution_count": 9,
   "metadata": {
    "colab": {
     "base_uri": "https://localhost:8080/",
     "height": 170
    },
    "colab_type": "code",
    "id": "9pCQED08EM6V",
    "outputId": "dd356613-a21a-428e-8e23-314a33c91e3d"
   },
   "outputs": [
    {
     "name": "stdout",
     "output_type": "stream",
     "text": [
      "Pregnancies: 0\n",
      "Glucose: 0\n",
      "BloodPressure: 0\n",
      "SkinThickness: 0\n",
      "Insulin: 0\n",
      "BMI: 0\n",
      "DiabetesPedigreeFunction: 0\n",
      "Age: 0\n",
      "Outcome: 0\n"
     ]
    }
   ],
   "source": [
    "for col in df.columns:\n",
    "  print(col+\":\",df[df[col].isNull()].count())"
   ]
  },
  {
   "cell_type": "code",
   "execution_count": 10,
   "metadata": {
    "colab": {},
    "colab_type": "code",
    "id": "svISfLZbERdk"
   },
   "outputs": [],
   "source": [
    "def count_zeros():\n",
    "  columns_list =['Glucose','BloodPressure','SkinThickness','Insulin','BMI']\n",
    "  for i in columns_list:\n",
    "    print(i+\":\",df[df[i]==0].count())"
   ]
  },
  {
   "cell_type": "code",
   "execution_count": 11,
   "metadata": {
    "colab": {
     "base_uri": "https://localhost:8080/",
     "height": 102
    },
    "colab_type": "code",
    "id": "d1hKf3G3ES_3",
    "outputId": "796bce2c-a442-4324-c22d-b0dca66fac03"
   },
   "outputs": [
    {
     "name": "stdout",
     "output_type": "stream",
     "text": [
      "Glucose: 13\n",
      "BloodPressure: 90\n",
      "SkinThickness: 573\n",
      "Insulin: 956\n",
      "BMI: 28\n"
     ]
    }
   ],
   "source": [
    "count_zeros()"
   ]
  },
  {
   "cell_type": "code",
   "execution_count": 12,
   "metadata": {
    "colab": {
     "base_uri": "https://localhost:8080/",
     "height": 102
    },
    "colab_type": "code",
    "id": "dXCChixFEUYZ",
    "outputId": "2ad5f0e3-b3a3-44dc-8c17-19150b1647ae"
   },
   "outputs": [
    {
     "name": "stdout",
     "output_type": "stream",
     "text": [
      "Mean value for Glucose is 121\n",
      "Mean value for BloodPressure is 69\n",
      "Mean value for SkinThickness is 20\n",
      "Mean value for Insulin is 80\n",
      "Mean value for BMI is 32\n"
     ]
    }
   ],
   "source": [
    "from pyspark.sql.functions import *\n",
    "for i in df.columns[1:6]:\n",
    "  data = df.agg({i:'mean'}).first()[0]\n",
    "  print(\"Mean value for {} is {}\".format(i,int(data)))\n",
    "  df = df.withColumn(i,when(df[i]==0,int(data)).otherwise(df[i]))"
   ]
  },
  {
   "cell_type": "code",
   "execution_count": 13,
   "metadata": {
    "colab": {
     "base_uri": "https://localhost:8080/",
     "height": 459
    },
    "colab_type": "code",
    "id": "ab-xB4v1EWLP",
    "outputId": "c5d36c05-8dfb-4243-e3a7-0a6fdb531847"
   },
   "outputs": [
    {
     "name": "stdout",
     "output_type": "stream",
     "text": [
      "+-----------+-------+-------------+-------------+-------+----+------------------------+---+-------+\n",
      "|Pregnancies|Glucose|BloodPressure|SkinThickness|Insulin| BMI|DiabetesPedigreeFunction|Age|Outcome|\n",
      "+-----------+-------+-------------+-------------+-------+----+------------------------+---+-------+\n",
      "|          2|    138|           62|           35|     80|33.6|                   0.127| 47|      1|\n",
      "|          0|     84|           82|           31|    125|38.2|                   0.233| 23|      0|\n",
      "|          0|    145|           69|           20|     80|44.2|                    0.63| 31|      1|\n",
      "|          0|    135|           68|           42|    250|42.3|                   0.365| 24|      1|\n",
      "|          1|    139|           62|           41|    480|40.7|                   0.536| 21|      0|\n",
      "|          0|    173|           78|           32|    265|46.5|                   1.159| 58|      0|\n",
      "|          4|     99|           72|           17|     80|25.6|                   0.294| 28|      0|\n",
      "|          8|    194|           80|           20|     80|26.1|                   0.551| 67|      0|\n",
      "|          2|     83|           65|           28|     66|36.8|                   0.629| 24|      0|\n",
      "|          2|     89|           90|           30|     80|33.5|                   0.292| 42|      0|\n",
      "|          4|     99|           68|           38|     80|32.8|                   0.145| 33|      0|\n",
      "|          4|    125|           70|           18|    122|28.9|                   1.144| 45|      1|\n",
      "|          3|     80|           69|           20|     80|32.0|                   0.174| 22|      0|\n",
      "|          6|    166|           74|           20|     80|26.6|                   0.304| 66|      0|\n",
      "|          5|    110|           68|           20|     80|26.0|                   0.292| 30|      0|\n",
      "|          2|     81|           72|           15|     76|30.1|                   0.547| 25|      0|\n",
      "|          7|    195|           70|           33|    145|25.1|                   0.163| 55|      1|\n",
      "|          6|    154|           74|           32|    193|29.3|                   0.839| 39|      0|\n",
      "|          2|    117|           90|           19|     71|25.2|                   0.313| 21|      0|\n",
      "|          3|     84|           72|           32|     80|37.2|                   0.267| 28|      0|\n",
      "+-----------+-------+-------------+-------------+-------+----+------------------------+---+-------+\n",
      "only showing top 20 rows\n",
      "\n"
     ]
    }
   ],
   "source": [
    "df.show()"
   ]
  },
  {
   "cell_type": "code",
   "execution_count": 14,
   "metadata": {},
   "outputs": [],
   "source": [
    "def histogram(df, col, bins=10, xname=None, yname=None):\n",
    "    \n",
    "    '''\n",
    "    This function makes a histogram from spark dataframe named \n",
    "    df for column name col. \n",
    "    '''\n",
    "    \n",
    "    # Calculating histogram in Spark \n",
    "    vals = df.select(col).rdd.flatMap(lambda x: x).histogram(bins)\n",
    "    \n",
    "    # Preprocessing histogram points and locations \n",
    "    width = vals[0][1] - vals[0][0]\n",
    "    loc = [vals[0][0] + (i+1) * width for i in range(len(vals[1]))]\n",
    "    \n",
    "    # Making a bar plot \n",
    "    plt.bar(loc, vals[1], width=width)\n",
    "    plt.xlabel(col)\n",
    "    plt.ylabel(yname)\n",
    "    plt.show()"
   ]
  },
  {
   "cell_type": "code",
   "execution_count": 15,
   "metadata": {},
   "outputs": [
    {
     "data": {
      "image/png": "[encoded data removed]",
      "text/plain": [
       "<Figure size 432x288 with 1 Axes>"
      ]
     },
     "metadata": {
      "needs_background": "light"
     },
     "output_type": "display_data"
    },
    {
     "data": {
      "image/png": "[encoded data removed]",
      "text/plain": [
       "<Figure size 432x288 with 1 Axes>"
      ]
     },
     "metadata": {
      "needs_background": "light"
     },
     "output_type": "display_data"
    },
    {
     "data": {
      "image/png": "[encoded data removed]",
      "text/plain": [
       "<Figure size 432x288 with 1 Axes>"
      ]
     },
     "metadata": {
      "needs_background": "light"
     },
     "output_type": "display_data"
    }
   ],
   "source": [
    "histogram(df, 'Pregnancies', bins=30, yname='Number of Count')\n",
    "histogram(df, 'Glucose', bins=30, yname='Number of Count')\n",
    "histogram(df, 'BloodPressure', bins=30, yname='Number of Count')"
   ]
  },
  {
   "cell_type": "code",
   "execution_count": 16,
   "metadata": {},
   "outputs": [
    {
     "data": {
      "image/png": "[encoded data removed]",
      "text/plain": [
       "<Figure size 432x288 with 1 Axes>"
      ]
     },
     "metadata": {
      "needs_background": "light"
     },
     "output_type": "display_data"
    },
    {
     "data": {
      "image/png": "[encoded data removed]",
      "text/plain": [
       "<Figure size 432x288 with 1 Axes>"
      ]
     },
     "metadata": {
      "needs_background": "light"
     },
     "output_type": "display_data"
    },
    {
     "data": {
      "image/png": "[encoded data removed]",
      "text/plain": [
       "<Figure size 432x288 with 1 Axes>"
      ]
     },
     "metadata": {
      "needs_background": "light"
     },
     "output_type": "display_data"
    }
   ],
   "source": [
    "histogram(df, 'SkinThickness', bins=30, yname='Number of Count')\n",
    "histogram(df, 'BMI', bins=30, yname='Number of Count')\n",
    "histogram(df, 'DiabetesPedigreeFunction', bins=30, yname='Number of Count')"
   ]
  },
  {
   "cell_type": "code",
   "execution_count": 17,
   "metadata": {},
   "outputs": [
    {
     "data": {
      "image/png": "[encoded data removed]",
      "text/plain": [
       "<Figure size 432x288 with 1 Axes>"
      ]
     },
     "metadata": {
      "needs_background": "light"
     },
     "output_type": "display_data"
    },
    {
     "data": {
      "image/png": "[encoded data removed]",
      "text/plain": [
       "<Figure size 432x288 with 1 Axes>"
      ]
     },
     "metadata": {
      "needs_background": "light"
     },
     "output_type": "display_data"
    }
   ],
   "source": [
    "histogram(df, 'Age', bins=30, yname='Number of Count')\n",
    "histogram(df, 'Outcome', bins=30, yname='Number of Count')"
   ]
  },
  {
   "cell_type": "code",
   "execution_count": 18,
   "metadata": {},
   "outputs": [
    {
     "data": {
      "image/png": "[encoded data removed]",
      "text/plain": [
       "<Figure size 432x288 with 1 Axes>"
      ]
     },
     "metadata": {
      "needs_background": "light"
     },
     "output_type": "display_data"
    }
   ],
   "source": [
    "def barplot(df, col, lim=10, yname=None):\n",
    "    \n",
    "    '''\n",
    "    This function makes a bar plot for the Spark dataframe df \n",
    "    for categorical column col only selecting top categories \n",
    "    as specified by lim. \n",
    "    '''\n",
    "    \n",
    "    # Grouping by the categories, counting on each categories \n",
    "    # and ordering them by the count\n",
    "    classes = df.groupBy(col).count().orderBy('count', ascending=False)\n",
    "    \n",
    "    # Take first 'lim' number of rows and convert to pandas  \n",
    "    pd_df = classes.limit(lim).toPandas()\n",
    "    \n",
    "    # Making plot \n",
    "    pd_df.plot(kind='bar', x=col, legend=False)\n",
    "    plt.ylabel(yname)\n",
    "    plt.show()\n",
    "    \n",
    "    \n",
    "barplot(df, 'Outcome', lim=30, yname='Number of Count')"
   ]
  },
  {
   "cell_type": "code",
   "execution_count": 19,
   "metadata": {},
   "outputs": [
    {
     "data": {
      "image/png": "[encoded data removed]",
      "text/plain": [
       "<Figure size 432x288 with 1 Axes>"
      ]
     },
     "metadata": {},
     "output_type": "display_data"
    }
   ],
   "source": [
    "def pieplot(df, col, lim=10, yname=None):\n",
    "    \n",
    "    '''\n",
    "    This function makes a pie chart for the Spark dataframe df \n",
    "    for categorical column col only selecting top categories \n",
    "    as specified by lim. \n",
    "    '''\n",
    "    \n",
    "    # Grouping by the categories, counting on each categories \n",
    "    # and ordering them by the count\n",
    "    classes = df.groupBy(col).count().orderBy('count', ascending=False)\n",
    "    \n",
    "    # Take first 'lim' number of rows and convert to pandas  \n",
    "    pd_df = classes.limit(lim).toPandas()\n",
    "    \n",
    "    # Making plot \n",
    "    pd_df.plot(kind='pie', x=col, y='count', \\\n",
    "           labels=pd_df[col], legend=False)\n",
    "    plt.ylabel(None)\n",
    "    plt.show()\n",
    "    \n",
    "pieplot(df, 'Outcome') "
   ]
  },
  {
   "cell_type": "markdown",
   "metadata": {
    "colab_type": "text",
    "id": "eoGkr2CUEZtu"
   },
   "source": [
    "# Correlation"
   ]
  },
  {
   "cell_type": "code",
   "execution_count": 20,
   "metadata": {
    "colab": {
     "base_uri": "https://localhost:8080/",
     "height": 170
    },
    "colab_type": "code",
    "id": "JP2PSXHaEXqN",
    "outputId": "3d8b4bf0-a98e-41bb-db02-5f565becf987"
   },
   "outputs": [
    {
     "name": "stdout",
     "output_type": "stream",
     "text": [
      "correlation to outcome for Pregnancies is 0.22443699263363961\n",
      "correlation to outcome for Glucose is 0.48796646527321064\n",
      "correlation to outcome for BloodPressure is 0.17171333286446713\n",
      "correlation to outcome for SkinThickness is 0.1659010662889893\n",
      "correlation to outcome for Insulin is 0.1711763270226193\n",
      "correlation to outcome for BMI is 0.2827927569760082\n",
      "correlation to outcome for DiabetesPedigreeFunction is 0.1554590791569403\n",
      "correlation to outcome for Age is 0.23650924717620253\n",
      "correlation to outcome for Outcome is 1.0\n"
     ]
    }
   ],
   "source": [
    "for col in df.columns:\n",
    "  print(\"correlation to outcome for {} is {}\".format(col,df.stat.corr('Outcome',col)))"
   ]
  },
  {
   "cell_type": "markdown",
   "metadata": {
    "colab_type": "text",
    "id": "uhGHISNWEfHG"
   },
   "source": [
    "# Feature Selection"
   ]
  },
  {
   "cell_type": "code",
   "execution_count": 21,
   "metadata": {
    "colab": {},
    "colab_type": "code",
    "id": "Vacw78TQEceW"
   },
   "outputs": [],
   "source": [
    "from pyspark.ml.feature import VectorAssembler\n",
    "assembler = VectorAssembler(inputCols=['Pregnancies','Glucose','BloodPressure','SkinThickness','Insulin','BMI','DiabetesPedigreeFunction','Age'],outputCol='features')\n",
    "output_data = assembler.transform(df)"
   ]
  },
  {
   "cell_type": "code",
   "execution_count": 22,
   "metadata": {
    "colab": {
     "base_uri": "https://localhost:8080/",
     "height": 221
    },
    "colab_type": "code",
    "id": "LIdyRGGcEhNa",
    "outputId": "50bbae10-2d01-4789-a1d4-5ee943128399"
   },
   "outputs": [
    {
     "name": "stdout",
     "output_type": "stream",
     "text": [
      "root\n",
      " |-- Pregnancies: integer (nullable = true)\n",
      " |-- Glucose: integer (nullable = true)\n",
      " |-- BloodPressure: integer (nullable = true)\n",
      " |-- SkinThickness: integer (nullable = true)\n",
      " |-- Insulin: integer (nullable = true)\n",
      " |-- BMI: double (nullable = true)\n",
      " |-- DiabetesPedigreeFunction: double (nullable = true)\n",
      " |-- Age: integer (nullable = true)\n",
      " |-- Outcome: integer (nullable = true)\n",
      " |-- features: vector (nullable = true)\n",
      "\n"
     ]
    }
   ],
   "source": [
    "output_data.printSchema()"
   ]
  },
  {
   "cell_type": "code",
   "execution_count": 23,
   "metadata": {
    "colab": {
     "base_uri": "https://localhost:8080/",
     "height": 459
    },
    "colab_type": "code",
    "id": "y_eS6oLeEiub",
    "outputId": "ad53ff7f-b5e4-43a0-a2fc-b441cfd0d090"
   },
   "outputs": [
    {
     "name": "stdout",
     "output_type": "stream",
     "text": [
      "+-----------+-------+-------------+-------------+-------+----+------------------------+---+-------+--------------------+\n",
      "|Pregnancies|Glucose|BloodPressure|SkinThickness|Insulin| BMI|DiabetesPedigreeFunction|Age|Outcome|            features|\n",
      "+-----------+-------+-------------+-------------+-------+----+------------------------+---+-------+--------------------+\n",
      "|          2|    138|           62|           35|     80|33.6|                   0.127| 47|      1|[2.0,138.0,62.0,3...|\n",
      "|          0|     84|           82|           31|    125|38.2|                   0.233| 23|      0|[0.0,84.0,82.0,31...|\n",
      "|          0|    145|           69|           20|     80|44.2|                    0.63| 31|      1|[0.0,145.0,69.0,2...|\n",
      "|          0|    135|           68|           42|    250|42.3|                   0.365| 24|      1|[0.0,135.0,68.0,4...|\n",
      "|          1|    139|           62|           41|    480|40.7|                   0.536| 21|      0|[1.0,139.0,62.0,4...|\n",
      "|          0|    173|           78|           32|    265|46.5|                   1.159| 58|      0|[0.0,173.0,78.0,3...|\n",
      "|          4|     99|           72|           17|     80|25.6|                   0.294| 28|      0|[4.0,99.0,72.0,17...|\n",
      "|          8|    194|           80|           20|     80|26.1|                   0.551| 67|      0|[8.0,194.0,80.0,2...|\n",
      "|          2|     83|           65|           28|     66|36.8|                   0.629| 24|      0|[2.0,83.0,65.0,28...|\n",
      "|          2|     89|           90|           30|     80|33.5|                   0.292| 42|      0|[2.0,89.0,90.0,30...|\n",
      "|          4|     99|           68|           38|     80|32.8|                   0.145| 33|      0|[4.0,99.0,68.0,38...|\n",
      "|          4|    125|           70|           18|    122|28.9|                   1.144| 45|      1|[4.0,125.0,70.0,1...|\n",
      "|          3|     80|           69|           20|     80|32.0|                   0.174| 22|      0|[3.0,80.0,69.0,20...|\n",
      "|          6|    166|           74|           20|     80|26.6|                   0.304| 66|      0|[6.0,166.0,74.0,2...|\n",
      "|          5|    110|           68|           20|     80|26.0|                   0.292| 30|      0|[5.0,110.0,68.0,2...|\n",
      "|          2|     81|           72|           15|     76|30.1|                   0.547| 25|      0|[2.0,81.0,72.0,15...|\n",
      "|          7|    195|           70|           33|    145|25.1|                   0.163| 55|      1|[7.0,195.0,70.0,3...|\n",
      "|          6|    154|           74|           32|    193|29.3|                   0.839| 39|      0|[6.0,154.0,74.0,3...|\n",
      "|          2|    117|           90|           19|     71|25.2|                   0.313| 21|      0|[2.0,117.0,90.0,1...|\n",
      "|          3|     84|           72|           32|     80|37.2|                   0.267| 28|      0|[3.0,84.0,72.0,32...|\n",
      "+-----------+-------+-------------+-------------+-------+----+------------------------+---+-------+--------------------+\n",
      "only showing top 20 rows\n",
      "\n"
     ]
    }
   ],
   "source": [
    "output_data.show()"
   ]
  },
  {
   "cell_type": "markdown",
   "metadata": {
    "colab_type": "text",
    "id": "Cp2zWgYrEmTm"
   },
   "source": [
    "# Build & Train Model"
   ]
  },
  {
   "cell_type": "markdown",
   "metadata": {},
   "source": [
    "## LogisticRegression"
   ]
  },
  {
   "cell_type": "code",
   "execution_count": 24,
   "metadata": {
    "colab": {},
    "colab_type": "code",
    "id": "Fm2zPQuMEkRm"
   },
   "outputs": [],
   "source": [
    "from pyspark.ml.classification import LogisticRegression\n",
    "final_data = output_data.select('features','Outcome')"
   ]
  },
  {
   "cell_type": "code",
   "execution_count": 25,
   "metadata": {
    "colab": {
     "base_uri": "https://localhost:8080/",
     "height": 85
    },
    "colab_type": "code",
    "id": "MowPUiNFEogQ",
    "outputId": "5d39b6fe-726d-4fae-bc4b-4b4f0d791319"
   },
   "outputs": [
    {
     "name": "stdout",
     "output_type": "stream",
     "text": [
      "root\n",
      " |-- features: vector (nullable = true)\n",
      " |-- Outcome: integer (nullable = true)\n",
      "\n"
     ]
    }
   ],
   "source": [
    "final_data.printSchema()"
   ]
  },
  {
   "cell_type": "code",
   "execution_count": 26,
   "metadata": {
    "colab": {},
    "colab_type": "code",
    "id": "IE_BvoguEp9k"
   },
   "outputs": [],
   "source": [
    "train , test = final_data.randomSplit([0.7,0.3])\n",
    "models = LogisticRegression(labelCol='Outcome')\n",
    "model = models.fit(train)"
   ]
  },
  {
   "cell_type": "code",
   "execution_count": 27,
   "metadata": {
    "colab": {},
    "colab_type": "code",
    "id": "WVTutBxLErl9"
   },
   "outputs": [],
   "source": [
    "summary = model.summary"
   ]
  },
  {
   "cell_type": "code",
   "execution_count": 28,
   "metadata": {
    "colab": {
     "base_uri": "https://localhost:8080/",
     "height": 187
    },
    "colab_type": "code",
    "id": "h9GoXcGJEtB_",
    "outputId": "f9721981-1f03-4823-bdf9-a3c44a989711"
   },
   "outputs": [
    {
     "name": "stdout",
     "output_type": "stream",
     "text": [
      "+-------+-------------------+-------------------+\n",
      "|summary|            Outcome|         prediction|\n",
      "+-------+-------------------+-------------------+\n",
      "|  count|               1399|               1399|\n",
      "|   mean| 0.3459614010007148|0.26090064331665475|\n",
      "| stddev|0.47585077931457403| 0.4392828604281829|\n",
      "|    min|                0.0|                0.0|\n",
      "|    max|                1.0|                1.0|\n",
      "+-------+-------------------+-------------------+\n",
      "\n"
     ]
    }
   ],
   "source": [
    "summary.predictions.describe().show()"
   ]
  },
  {
   "cell_type": "markdown",
   "metadata": {
    "colab_type": "text",
    "id": "zK-NG2naEwQQ"
   },
   "source": [
    "# Evaluation & Test Model"
   ]
  },
  {
   "cell_type": "markdown",
   "metadata": {},
   "source": [
    "## LogisticRegression"
   ]
  },
  {
   "cell_type": "code",
   "execution_count": 34,
   "metadata": {
    "colab": {},
    "colab_type": "code",
    "id": "-4qSVvynEuUr"
   },
   "outputs": [],
   "source": [
    "from pyspark.ml.evaluation import BinaryClassificationEvaluator\n",
    "predictions = model.evaluate(test)"
   ]
  },
  {
   "cell_type": "code",
   "execution_count": 35,
   "metadata": {
    "colab": {
     "base_uri": "https://localhost:8080/",
     "height": 459
    },
    "colab_type": "code",
    "id": "QJPT2jjIEzPT",
    "outputId": "880dc01d-c5c6-4b2b-a052-82833c1a2036"
   },
   "outputs": [
    {
     "name": "stdout",
     "output_type": "stream",
     "text": [
      "+--------------------+-------+--------------------+--------------------+----------+\n",
      "|            features|Outcome|       rawPrediction|         probability|prediction|\n",
      "+--------------------+-------+--------------------+--------------------+----------+\n",
      "|[0.0,67.0,76.0,20...|      0|[2.58518377301870...|[0.92990192384720...|       0.0|\n",
      "|[0.0,73.0,69.0,20...|      0|[4.37228990702531...|[0.98753503304902...|       0.0|\n",
      "|[0.0,74.0,52.0,10...|      0|[3.61992721628514...|[0.97391407581446...|       0.0|\n",
      "|[0.0,78.0,88.0,29...|      0|[2.79847557400539...|[0.94259339138247...|       0.0|\n",
      "|[0.0,84.0,64.0,22...|      0|[2.43360644619681...|[0.91935432644933...|       0.0|\n",
      "|[0.0,84.0,82.0,31...|      0|[2.73064956296390...|[0.93881116180896...|       0.0|\n",
      "|[0.0,84.0,82.0,31...|      0|[2.73064956296390...|[0.93881116180896...|       0.0|\n",
      "|[0.0,91.0,68.0,32...|      0|[2.23181108095166...|[0.90307000697333...|       0.0|\n",
      "|[0.0,91.0,68.0,32...|      0|[2.23181108095166...|[0.90307000697333...|       0.0|\n",
      "|[0.0,91.0,80.0,20...|      0|[2.52397486688508...|[0.92580554952073...|       0.0|\n",
      "|[0.0,93.0,60.0,20...|      0|[2.32803356600973...|[0.91117230745472...|       0.0|\n",
      "|[0.0,95.0,80.0,45...|      0|[2.21932973797405...|[0.90197194806910...|       0.0|\n",
      "|[0.0,95.0,85.0,25...|      1|[2.18089297352934...|[0.89852052365260...|       0.0|\n",
      "|[0.0,98.0,82.0,15...|      0|[3.17898132690861...|[0.96003560067640...|       0.0|\n",
      "|[0.0,100.0,88.0,6...|      0|[0.63988887351189...|[0.65472833987985...|       0.0|\n",
      "|[0.0,100.0,88.0,6...|      0|[0.63988887351189...|[0.65472833987985...|       0.0|\n",
      "|[0.0,101.0,62.0,2...|      0|[3.11617469599147...|[0.95755502664269...|       0.0|\n",
      "|[0.0,101.0,62.0,2...|      0|[3.11617469599147...|[0.95755502664269...|       0.0|\n",
      "|[0.0,101.0,62.0,2...|      0|[3.11617469599147...|[0.95755502664269...|       0.0|\n",
      "|[0.0,101.0,65.0,2...|      0|[2.99202939148175...|[0.95221273963800...|       0.0|\n",
      "+--------------------+-------+--------------------+--------------------+----------+\n",
      "only showing top 20 rows\n",
      "\n"
     ]
    }
   ],
   "source": [
    "predictions.predictions.show(20)"
   ]
  },
  {
   "cell_type": "code",
   "execution_count": 36,
   "metadata": {
    "colab": {
     "base_uri": "https://localhost:8080/",
     "height": 34
    },
    "colab_type": "code",
    "id": "_orUusQlE03v",
    "outputId": "d486b5d0-623f-4a45-afef-d30a6400883f"
   },
   "outputs": [
    {
     "data": {
      "text/plain": [
       "0.8619833194564013"
      ]
     },
     "execution_count": 36,
     "metadata": {},
     "output_type": "execute_result"
    }
   ],
   "source": [
    "evaluator = BinaryClassificationEvaluator(rawPredictionCol='rawPrediction', labelCol='Outcome')\n",
    "evaluator.evaluate(model.transform(test))"
   ]
  },
  {
   "cell_type": "markdown",
   "metadata": {},
   "source": [
    "___"
   ]
  }
 ],
 "metadata": {
  "colab": {
   "name": "diabetes_prediction.ipynb",
   "provenance": []
  },
  "kernelspec": {
   "display_name": "new-env",
   "language": "python",
   "name": "new-env"
  },
  "language_info": {
   "codemirror_mode": {
    "name": "ipython",
    "version": 3
   },
   "file_extension": ".py",
   "mimetype": "text/x-python",
   "name": "python",
   "nbconvert_exporter": "python",
   "pygments_lexer": "ipython3",
   "version": "3.9.12"
  }
 },
 "nbformat": 4,
 "nbformat_minor": 1
}
